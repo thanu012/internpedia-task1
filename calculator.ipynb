{
  "nbformat": 4,
  "nbformat_minor": 0,
  "metadata": {
    "colab": {
      "provenance": [],
      "authorship_tag": "ABX9TyOg55F/u8TdW68lk6Rh0RYU",
      "include_colab_link": true
    },
    "kernelspec": {
      "name": "python3",
      "display_name": "Python 3"
    },
    "language_info": {
      "name": "python"
    }
  },
  "cells": [
    {
      "cell_type": "markdown",
      "metadata": {
        "id": "view-in-github",
        "colab_type": "text"
      },
      "source": [
        "<a href=\"https://colab.research.google.com/github/thanu012/internpedia-task1/blob/main/calculator.ipynb\" target=\"_parent\"><img src=\"https://colab.research.google.com/assets/colab-badge.svg\" alt=\"Open In Colab\"/></a>"
      ]
    },
    {
      "cell_type": "code",
      "execution_count": null,
      "metadata": {
        "id": "20vX-Bu9H2eP"
      },
      "outputs": [],
      "source": [
        "import math"
      ]
    },
    {
      "cell_type": "code",
      "source": [
        "def add(x,y):\n",
        "  return x+y"
      ],
      "metadata": {
        "id": "CDMeWwTzIAKM"
      },
      "execution_count": null,
      "outputs": []
    },
    {
      "cell_type": "code",
      "source": [
        "def sub(x,y):\n",
        "  return x-y"
      ],
      "metadata": {
        "id": "816KUj9jIIs7"
      },
      "execution_count": null,
      "outputs": []
    },
    {
      "cell_type": "code",
      "source": [
        "def mul(x,y):\n",
        "  return x*y"
      ],
      "metadata": {
        "id": "7UZe49WOIP7B"
      },
      "execution_count": null,
      "outputs": []
    },
    {
      "cell_type": "code",
      "source": [
        "def div(x,y):\n",
        "  return x/y"
      ],
      "metadata": {
        "id": "caDO8fQ6IXlC"
      },
      "execution_count": null,
      "outputs": []
    },
    {
      "cell_type": "code",
      "source": [
        "def inverse(x):\n",
        "  return 1/x"
      ],
      "metadata": {
        "id": "WffCHOBIIg7I"
      },
      "execution_count": null,
      "outputs": []
    },
    {
      "cell_type": "code",
      "source": [
        "def square(x):\n",
        "  return x**2"
      ],
      "metadata": {
        "id": "9DFJv-I-IoST"
      },
      "execution_count": null,
      "outputs": []
    },
    {
      "cell_type": "code",
      "source": [
        "def square_root(x):\n",
        "  m=math.sqrt(x)\n",
        "  return m"
      ],
      "metadata": {
        "id": "kr4WWXLLIsGx"
      },
      "execution_count": null,
      "outputs": []
    },
    {
      "cell_type": "code",
      "source": [
        "def per(tot,gained):\n",
        "    per=(gained/tot)*100\n",
        "    return per"
      ],
      "metadata": {
        "id": "EoCo8qopIzUE"
      },
      "execution_count": null,
      "outputs": []
    },
    {
      "cell_type": "code",
      "source": [
        "def calculator():\n",
        "    print(\"Select operation:\")\n",
        "    print(\"1. Add\")\n",
        "    print(\"2. Subtract\")\n",
        "    print(\"3. Multiply\")\n",
        "    print(\"4. Divide\")\n",
        "    print(\"5. Inverse\")\n",
        "    print(\"6. Square of a number\")\n",
        "    print(\"7. Square root of a number\")\n",
        "    print(\"8. Percentage\")\n",
        "\n",
        "    while True:\n",
        "\n",
        "        choice = input(\"Enter choice(1/2/3/4/5/6/7/8): \")\n",
        "\n",
        "\n",
        "        if choice in ['1', '2', '3', '4','5','6','7','8']:\n",
        "            if choice == '1':\n",
        "                try:\n",
        "                  num1 = float(input(\"Enter first number: \"))\n",
        "                  num2 = float(input(\"Enter second number: \"))\n",
        "                except ValueError:\n",
        "                  print(\"Invalid input. Please enter numeric values.\")\n",
        "                  continue\n",
        "                r=add(num1,num2)\n",
        "                print(f\"The Addition of {num1} and {num2} is {r}\")\n",
        "            elif choice == '2':\n",
        "                try:\n",
        "                  num1 = float(input(\"Enter first number: \"))\n",
        "                  num2 = float(input(\"Enter second number: \"))\n",
        "                except ValueError:\n",
        "                  print(\"Invalid input. Please enter numeric values.\")\n",
        "                  continue\n",
        "                r=sub(num1,num2)\n",
        "                print(f\"The Subtraction of {num1} and {num2} is {r}\")\n",
        "\n",
        "            elif choice == '3':\n",
        "                try:\n",
        "                  num1 = float(input(\"Enter first number: \"))\n",
        "                  num2 = float(input(\"Enter second number: \"))\n",
        "                except ValueError:\n",
        "                  print(\"Invalid input. Please enter numeric values.\")\n",
        "                  continue\n",
        "                r=mul(num1,num2)\n",
        "                print(f\"The Multiplication of {num1} and {num2} is {r}\")\n",
        "\n",
        "            elif choice == '4':\n",
        "              try:\n",
        "                num1 = float(input(\"Enter first number: \"))\n",
        "                num2 = float(input(\"Enter second number: \"))\n",
        "              except ValueError:\n",
        "                print(\"Invalid input. Please enter numeric values.\")\n",
        "                continue\n",
        "              r=div(num1,num2)\n",
        "              print(f\"The Division of {num1} and {num2} is {r}\")\n",
        "            elif choice=='5':\n",
        "              try:\n",
        "                num1 = float(input(\"Enter first number: \"))\n",
        "              except ValueError:\n",
        "                print(\"Invalid input. Please enter numeric values.\")\n",
        "                continue\n",
        "              r=inverse(num1)\n",
        "              print(f\"The inverse of the number {num1} is {r}\")\n",
        "            elif choice == '6':\n",
        "              try:\n",
        "                num1 = float(input(\"Enter first number: \"))\n",
        "              except ValueError:\n",
        "                print(\"Invalid input. Please enter numeric values.\")\n",
        "                continue\n",
        "              r=square(num1)\n",
        "              print(f\"The square of the number {num1} is {r}\")\n",
        "            elif choice=='7':\n",
        "              try:\n",
        "                num1 = float(input(\"Enter first number: \"))\n",
        "              except ValueError:\n",
        "                print(\"Invalid input. Please enter numeric values.\")\n",
        "                continue\n",
        "              r=square_root(num1)\n",
        "              print(f\"The Suqare Root of the number {num1} is {r}\")\n",
        "            elif choice=='8':\n",
        "              try:\n",
        "                num1 = float(input(\"Enter total amount: \"))\n",
        "                gained = float(input(\"Enter amount: \"))\n",
        "              except ValueError:\n",
        "                print(\"Invalid input. Please enter numeric values.\")\n",
        "                continue\n",
        "              r=per(num1,gained)\n",
        "              print(f\"The percentage of the number {gained} is {r}\")\n",
        "\n",
        "\n",
        "            next_calculation = input(\"Do you want to perform another calculation? (yes/no): \")\n",
        "            if next_calculation.lower() != 'yes':\n",
        "                break\n",
        "        else:\n",
        "            print(\"Invalid Input\")"
      ],
      "metadata": {
        "id": "_tOAwNfhI3Qe"
      },
      "execution_count": null,
      "outputs": []
    },
    {
      "cell_type": "code",
      "source": [
        "if __name__ == \"__main_56_\":\n",
        "    calculator()"
      ],
      "metadata": {
        "colab": {
          "base_uri": "https://localhost:8080/"
        },
        "id": "6yFTkAjEKQbV",
        "outputId": "9e292962-3ec8-4790-ceac-7461f22c85cd"
      },
      "execution_count": null,
      "outputs": [
        {
          "name": "stdout",
          "output_type": "stream",
          "text": [
            "Select operation:\n",
            "1. Add\n",
            "2. Subtract\n",
            "3. Multiply\n",
            "4. Divide\n",
            "5. Inverse\n",
            "6. Square of a number\n",
            "7. Square root of a number\n",
            "8. Percentage\n",
            "Enter choice(1/2/3/4/5/6/7/8): 1\n",
            "Enter first number: 2\n",
            "Enter second number: 3\n",
            "The Addition of 2.0 and 3.0 is 5.0\n",
            "Do you want to perform another calculation? (yes/no): yes\n",
            "Enter choice(1/2/3/4/5/6/7/8): 2\n",
            "Enter first number: 3\n",
            "Enter second number: 4\n",
            "The Subtraction of 3.0 and 4.0 is -1.0\n",
            "Do you want to perform another calculation? (yes/no): yes\n",
            "Enter choice(1/2/3/4/5/6/7/8): 3\n",
            "Enter first number: 4\n",
            "Enter second number: 5\n",
            "The Multiplication of 4.0 and 5.0 is 20.0\n",
            "Do you want to perform another calculation? (yes/no): yes\n",
            "Enter choice(1/2/3/4/5/6/7/8): 4\n",
            "Enter first number: \n",
            "Invalid input. Please enter numeric values.\n",
            "Enter choice(1/2/3/4/5/6/7/8): \n",
            "Invalid Input\n",
            "Enter choice(1/2/3/4/5/6/7/8): 4\n",
            "Enter first number: 5\n",
            "Enter second number: 6\n",
            "The Division of 5.0 and 6.0 is 0.8333333333333334\n",
            "Do you want to perform another calculation? (yes/no): yes\n",
            "Enter choice(1/2/3/4/5/6/7/8): 6\n",
            "Enter first number: 5\n",
            "The square of the number 5.0 is 25.0\n",
            "Do you want to perform another calculation? (yes/no): yes\n",
            "Enter choice(1/2/3/4/5/6/7/8): 5\n",
            "Enter first number: 6\n",
            "The inverse of the number 6.0 is 0.16666666666666666\n",
            "Do you want to perform another calculation? (yes/no): yes\n",
            "Enter choice(1/2/3/4/5/6/7/8): 7\n",
            "Enter first number: 6\n",
            "The Suqare Root of the number 6.0 is 2.449489742783178\n",
            "Do you want to perform another calculation? (yes/no): yes\n",
            "Enter choice(1/2/3/4/5/6/7/8): 8\n",
            "Enter total amount: 100\n",
            "Enter amount: 20\n",
            "The percentage of the number 20.0 is 20.0\n",
            "Do you want to perform another calculation? (yes/no): no\n"
          ]
        }
      ]
    }
  ]
}